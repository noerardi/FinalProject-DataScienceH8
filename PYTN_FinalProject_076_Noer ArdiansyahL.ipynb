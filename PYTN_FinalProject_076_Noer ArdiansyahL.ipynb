{
 "cells": [
  {
   "cell_type": "markdown",
   "metadata": {},
   "source": [
    "# ---- Final Project Data Science Hacktiv 8 ---\n",
    "\n",
    "Author : Noer Ardiansyah Laksana"
   ]
  },
  {
   "cell_type": "markdown",
   "metadata": {},
   "source": [
    "## 1. Introduction\n",
    "\n",
    "Pada project ini, saya akan memprediksi kemungkinan seseorang terkena diabetes menggunakan data yang berada di link berikut :\n",
    "\n",
    "https://www.kaggle.com/datasets/mathchi/diabetes-data-set\n",
    "\n",
    "Data tersebut berisi beberapa informasi seperti :\n",
    "1. Masa Kehamilan\n",
    "2. Tingkat Glukosa\n",
    "3. Tekanan darah\n",
    "4. Gumpalan lemak pada kulit\n",
    "5. Tingkat penyuntikan insulin\n",
    "6. Tingkat ideal berat badan\n",
    "7. Umur\n",
    "8. Status diabetes\n",
    "\n",
    "Data ini hanya berisi pasien wanita"
   ]
  },
  {
   "cell_type": "markdown",
   "metadata": {},
   "source": [
    "### -- Goal --\n",
    "Pada final project ini, saya ingin membangun sebuah model yang dapat memprediksikan apakah seseorang dengan beberapa faktor diatas terkena diabetes atau tidak.\n",
    "\n",
    "note: saya akan menggunakan model machine learning random forest dan naive bayes kemudian akan membandingkan hasilnya"
   ]
  },
  {
   "cell_type": "markdown",
   "metadata": {},
   "source": [
    "## 2. Import Package yang dibutuhkan"
   ]
  },
  {
   "cell_type": "code",
   "execution_count": 1,
   "metadata": {},
   "outputs": [],
   "source": [
    "import numpy as np\n",
    "import pandas as pd\n",
    "import matplotlib.pyplot as plt\n",
    "from sklearn.datasets import load_digits\n",
    "from sklearn.linear_model import LogisticRegression # logistic regression\n",
    "from sklearn.metrics import accuracy_score\n",
    "from sklearn.metrics import classification_report, confusion_matrix\n",
    "from sklearn.model_selection import train_test_split\n",
    "from sklearn.preprocessing import StandardScaler\n",
    "from sklearn import preprocessing # label encoder\n",
    "from sklearn.neighbors import KNeighborsClassifier #Import knearest neighbors Classifier model\n",
    "from sklearn import metrics #Import scikit-learn metrics module for accuracy calculation\n",
    "from sklearn.naive_bayes import GaussianNB #Import Gaussian Naive Bayes model\n",
    "from sklearn.tree import DecisionTreeClassifier # Import Decision Tree Classifier\n",
    "import sklearn.tree as tree #import visualizing decision tree\n",
    "import pydotplus\n",
    "from six import StringIO\n",
    "from IPython.display import Image\n",
    "from sklearn.ensemble import RandomForestClassifier #Import Random Forest Model\n",
    "from sklearn import svm #Import svm model\n",
    "import seaborn as sns"
   ]
  },
  {
   "cell_type": "markdown",
   "metadata": {},
   "source": [
    "# 3. Data Loading, Explorasi, dan Data Analysis"
   ]
  },
  {
   "cell_type": "code",
   "execution_count": 14,
   "metadata": {},
   "outputs": [
    {
     "name": "stdout",
     "output_type": "stream",
     "text": [
      "Data Sudah terbaca\n"
     ]
    }
   ],
   "source": [
    "df = pd.read_csv(\"diabetes.csv\")\n",
    "print('Data Sudah terbaca')"
   ]
  },
  {
   "cell_type": "code",
   "execution_count": 15,
   "metadata": {},
   "outputs": [
    {
     "data": {
      "text/html": [
       "<div>\n",
       "<style scoped>\n",
       "    .dataframe tbody tr th:only-of-type {\n",
       "        vertical-align: middle;\n",
       "    }\n",
       "\n",
       "    .dataframe tbody tr th {\n",
       "        vertical-align: top;\n",
       "    }\n",
       "\n",
       "    .dataframe thead th {\n",
       "        text-align: right;\n",
       "    }\n",
       "</style>\n",
       "<table border=\"1\" class=\"dataframe\">\n",
       "  <thead>\n",
       "    <tr style=\"text-align: right;\">\n",
       "      <th></th>\n",
       "      <th>Pregnancies</th>\n",
       "      <th>Glucose</th>\n",
       "      <th>BloodPressure</th>\n",
       "      <th>SkinThickness</th>\n",
       "      <th>Insulin</th>\n",
       "      <th>BMI</th>\n",
       "      <th>DiabetesPedigreeFunction</th>\n",
       "      <th>Age</th>\n",
       "      <th>Outcome</th>\n",
       "    </tr>\n",
       "  </thead>\n",
       "  <tbody>\n",
       "    <tr>\n",
       "      <th>0</th>\n",
       "      <td>6</td>\n",
       "      <td>148</td>\n",
       "      <td>72</td>\n",
       "      <td>35</td>\n",
       "      <td>0</td>\n",
       "      <td>33.6</td>\n",
       "      <td>0.627</td>\n",
       "      <td>50</td>\n",
       "      <td>1</td>\n",
       "    </tr>\n",
       "    <tr>\n",
       "      <th>1</th>\n",
       "      <td>1</td>\n",
       "      <td>85</td>\n",
       "      <td>66</td>\n",
       "      <td>29</td>\n",
       "      <td>0</td>\n",
       "      <td>26.6</td>\n",
       "      <td>0.351</td>\n",
       "      <td>31</td>\n",
       "      <td>0</td>\n",
       "    </tr>\n",
       "    <tr>\n",
       "      <th>2</th>\n",
       "      <td>8</td>\n",
       "      <td>183</td>\n",
       "      <td>64</td>\n",
       "      <td>0</td>\n",
       "      <td>0</td>\n",
       "      <td>23.3</td>\n",
       "      <td>0.672</td>\n",
       "      <td>32</td>\n",
       "      <td>1</td>\n",
       "    </tr>\n",
       "  </tbody>\n",
       "</table>\n",
       "</div>"
      ],
      "text/plain": [
       "   Pregnancies  Glucose  BloodPressure  SkinThickness  Insulin   BMI  \\\n",
       "0            6      148             72             35        0  33.6   \n",
       "1            1       85             66             29        0  26.6   \n",
       "2            8      183             64              0        0  23.3   \n",
       "\n",
       "   DiabetesPedigreeFunction  Age  Outcome  \n",
       "0                     0.627   50        1  \n",
       "1                     0.351   31        0  \n",
       "2                     0.672   32        1  "
      ]
     },
     "execution_count": 15,
     "metadata": {},
     "output_type": "execute_result"
    }
   ],
   "source": [
    "df.head(3)"
   ]
  },
  {
   "cell_type": "code",
   "execution_count": 16,
   "metadata": {},
   "outputs": [
    {
     "data": {
      "text/html": [
       "<div>\n",
       "<style scoped>\n",
       "    .dataframe tbody tr th:only-of-type {\n",
       "        vertical-align: middle;\n",
       "    }\n",
       "\n",
       "    .dataframe tbody tr th {\n",
       "        vertical-align: top;\n",
       "    }\n",
       "\n",
       "    .dataframe thead th {\n",
       "        text-align: right;\n",
       "    }\n",
       "</style>\n",
       "<table border=\"1\" class=\"dataframe\">\n",
       "  <thead>\n",
       "    <tr style=\"text-align: right;\">\n",
       "      <th></th>\n",
       "      <th>Pregnancies</th>\n",
       "      <th>Glucose</th>\n",
       "      <th>BloodPressure</th>\n",
       "      <th>SkinThickness</th>\n",
       "      <th>Insulin</th>\n",
       "      <th>BMI</th>\n",
       "      <th>DiabetesPedigreeFunction</th>\n",
       "      <th>Age</th>\n",
       "      <th>Outcome</th>\n",
       "    </tr>\n",
       "  </thead>\n",
       "  <tbody>\n",
       "    <tr>\n",
       "      <th>766</th>\n",
       "      <td>1</td>\n",
       "      <td>126</td>\n",
       "      <td>60</td>\n",
       "      <td>0</td>\n",
       "      <td>0</td>\n",
       "      <td>30.1</td>\n",
       "      <td>0.349</td>\n",
       "      <td>47</td>\n",
       "      <td>1</td>\n",
       "    </tr>\n",
       "    <tr>\n",
       "      <th>767</th>\n",
       "      <td>1</td>\n",
       "      <td>93</td>\n",
       "      <td>70</td>\n",
       "      <td>31</td>\n",
       "      <td>0</td>\n",
       "      <td>30.4</td>\n",
       "      <td>0.315</td>\n",
       "      <td>23</td>\n",
       "      <td>0</td>\n",
       "    </tr>\n",
       "  </tbody>\n",
       "</table>\n",
       "</div>"
      ],
      "text/plain": [
       "     Pregnancies  Glucose  BloodPressure  SkinThickness  Insulin   BMI  \\\n",
       "766            1      126             60              0        0  30.1   \n",
       "767            1       93             70             31        0  30.4   \n",
       "\n",
       "     DiabetesPedigreeFunction  Age  Outcome  \n",
       "766                     0.349   47        1  \n",
       "767                     0.315   23        0  "
      ]
     },
     "execution_count": 16,
     "metadata": {},
     "output_type": "execute_result"
    }
   ],
   "source": [
    "df.tail(2)"
   ]
  },
  {
   "cell_type": "code",
   "execution_count": 12,
   "metadata": {},
   "outputs": [
    {
     "data": {
      "text/plain": [
       "(768, 10)"
      ]
     },
     "execution_count": 12,
     "metadata": {},
     "output_type": "execute_result"
    }
   ],
   "source": [
    "df.shape"
   ]
  },
  {
   "cell_type": "markdown",
   "metadata": {},
   "source": [
    "##### Data memiliki 768 baris dan 10 kolom yang menjadi indikator pasien terkena diabetes atau tidak\n",
    "\n",
    "outcome yang ada pada kolom dataset menunjukan bahwa pasien terkena diabetes atau tidak, angka 0 menunjukan bahwa pasien tidak terkena diabetes, dan angka 1 menunjukan bahwa pasien terkena diabetes. "
   ]
  },
  {
   "cell_type": "code",
   "execution_count": 17,
   "metadata": {},
   "outputs": [
    {
     "name": "stdout",
     "output_type": "stream",
     "text": [
      "<class 'pandas.core.frame.DataFrame'>\n",
      "RangeIndex: 768 entries, 0 to 767\n",
      "Data columns (total 9 columns):\n",
      " #   Column                    Non-Null Count  Dtype  \n",
      "---  ------                    --------------  -----  \n",
      " 0   Pregnancies               768 non-null    int64  \n",
      " 1   Glucose                   768 non-null    int64  \n",
      " 2   BloodPressure             768 non-null    int64  \n",
      " 3   SkinThickness             768 non-null    int64  \n",
      " 4   Insulin                   768 non-null    int64  \n",
      " 5   BMI                       768 non-null    float64\n",
      " 6   DiabetesPedigreeFunction  768 non-null    float64\n",
      " 7   Age                       768 non-null    int64  \n",
      " 8   Outcome                   768 non-null    int64  \n",
      "dtypes: float64(2), int64(7)\n",
      "memory usage: 54.1 KB\n"
     ]
    }
   ],
   "source": [
    "df.info()"
   ]
  },
  {
   "cell_type": "markdown",
   "metadata": {},
   "source": [
    "Melihat missing values pada dataset yang akan digunakan"
   ]
  },
  {
   "cell_type": "code",
   "execution_count": 18,
   "metadata": {},
   "outputs": [
    {
     "data": {
      "text/plain": [
       "Pregnancies                 0\n",
       "Glucose                     0\n",
       "BloodPressure               0\n",
       "SkinThickness               0\n",
       "Insulin                     0\n",
       "BMI                         0\n",
       "DiabetesPedigreeFunction    0\n",
       "Age                         0\n",
       "Outcome                     0\n",
       "dtype: int64"
      ]
     },
     "execution_count": 18,
     "metadata": {},
     "output_type": "execute_result"
    }
   ],
   "source": [
    "df.isnull().sum()"
   ]
  },
  {
   "cell_type": "markdown",
   "metadata": {},
   "source": [
    "--- Insight --- \n",
    "\n",
    "Pada bagian ini, tertlihat bahwa tidak ada missing values yang terjadi pada dataset yang akan digunakan."
   ]
  },
  {
   "cell_type": "markdown",
   "metadata": {},
   "source": [
    "### Data Cleansing"
   ]
  },
  {
   "cell_type": "markdown",
   "metadata": {},
   "source": [
    "Terlihat memang seperti tidak ada missing values pada data tersebut, namun nilai nol tidak makesanse pada kasus ini maka kita ganti nilai nol menjadi NaN"
   ]
  },
  {
   "cell_type": "code",
   "execution_count": 41,
   "metadata": {},
   "outputs": [
    {
     "name": "stdout",
     "output_type": "stream",
     "text": [
      "Pregnancies                   0\n",
      "Glucose                       5\n",
      "BloodPressure                35\n",
      "SkinThickness               227\n",
      "Insulin                     374\n",
      "BMI                          11\n",
      "DiabetesPedigreeFunction      0\n",
      "Age                           0\n",
      "Outcome                       0\n",
      "Skinthickness               541\n",
      "dtype: int64\n"
     ]
    }
   ],
   "source": [
    "df_copy = df.copy(deep = True)\n",
    "df_copy[['Glucose','BloodPressure','SkinThickness','Insulin','BMI']] = df_copy[['Glucose','BloodPressure','SkinThickness','Insulin','BMI']].replace(0,np.NaN)\n",
    "\n",
    "## showing the count of Nans\n",
    "print(df_copy.isnull().sum())"
   ]
  },
  {
   "cell_type": "markdown",
   "metadata": {},
   "source": [
    "Karena NaN akan menggangu proses pengolahan data maka mari kita ganti data tersebut"
   ]
  },
  {
   "cell_type": "code",
   "execution_count": 50,
   "metadata": {},
   "outputs": [],
   "source": [
    "df_copy['Glucose'].fillna(df_copy['Glucose'].mean(), inplace = True)\n",
    "df_copy['BloodPressure'].fillna(df_copy['BloodPressure'].mean(), inplace = True)\n",
    "df_copy['SkinThickness'].fillna(df_copy['SkinThickness'].median(), inplace = True)\n",
    "df_copy['Insulin'].fillna(df_copy['Insulin'].median(), inplace = True)\n",
    "df_copy['BMI'].fillna(df_copy['BMI'].median(), inplace = True)"
   ]
  },
  {
   "cell_type": "code",
   "execution_count": 63,
   "metadata": {},
   "outputs": [
    {
     "data": {
      "text/html": [
       "<div>\n",
       "<style scoped>\n",
       "    .dataframe tbody tr th:only-of-type {\n",
       "        vertical-align: middle;\n",
       "    }\n",
       "\n",
       "    .dataframe tbody tr th {\n",
       "        vertical-align: top;\n",
       "    }\n",
       "\n",
       "    .dataframe thead th {\n",
       "        text-align: right;\n",
       "    }\n",
       "</style>\n",
       "<table border=\"1\" class=\"dataframe\">\n",
       "  <thead>\n",
       "    <tr style=\"text-align: right;\">\n",
       "      <th></th>\n",
       "      <th>Pregnancies</th>\n",
       "      <th>Glucose</th>\n",
       "      <th>BloodPressure</th>\n",
       "      <th>SkinThickness</th>\n",
       "      <th>Insulin</th>\n",
       "      <th>BMI</th>\n",
       "      <th>DiabetesPedigreeFunction</th>\n",
       "      <th>Age</th>\n",
       "      <th>Outcome</th>\n",
       "    </tr>\n",
       "  </thead>\n",
       "  <tbody>\n",
       "    <tr>\n",
       "      <th>0</th>\n",
       "      <td>6</td>\n",
       "      <td>148.0</td>\n",
       "      <td>72.0</td>\n",
       "      <td>35.0</td>\n",
       "      <td>125.0</td>\n",
       "      <td>33.6</td>\n",
       "      <td>0.627</td>\n",
       "      <td>50</td>\n",
       "      <td>1</td>\n",
       "    </tr>\n",
       "    <tr>\n",
       "      <th>1</th>\n",
       "      <td>1</td>\n",
       "      <td>85.0</td>\n",
       "      <td>66.0</td>\n",
       "      <td>29.0</td>\n",
       "      <td>125.0</td>\n",
       "      <td>26.6</td>\n",
       "      <td>0.351</td>\n",
       "      <td>31</td>\n",
       "      <td>0</td>\n",
       "    </tr>\n",
       "    <tr>\n",
       "      <th>2</th>\n",
       "      <td>8</td>\n",
       "      <td>183.0</td>\n",
       "      <td>64.0</td>\n",
       "      <td>29.0</td>\n",
       "      <td>125.0</td>\n",
       "      <td>23.3</td>\n",
       "      <td>0.672</td>\n",
       "      <td>32</td>\n",
       "      <td>1</td>\n",
       "    </tr>\n",
       "    <tr>\n",
       "      <th>3</th>\n",
       "      <td>1</td>\n",
       "      <td>89.0</td>\n",
       "      <td>66.0</td>\n",
       "      <td>23.0</td>\n",
       "      <td>94.0</td>\n",
       "      <td>28.1</td>\n",
       "      <td>0.167</td>\n",
       "      <td>21</td>\n",
       "      <td>0</td>\n",
       "    </tr>\n",
       "    <tr>\n",
       "      <th>4</th>\n",
       "      <td>0</td>\n",
       "      <td>137.0</td>\n",
       "      <td>40.0</td>\n",
       "      <td>35.0</td>\n",
       "      <td>168.0</td>\n",
       "      <td>43.1</td>\n",
       "      <td>2.288</td>\n",
       "      <td>33</td>\n",
       "      <td>1</td>\n",
       "    </tr>\n",
       "  </tbody>\n",
       "</table>\n",
       "</div>"
      ],
      "text/plain": [
       "   Pregnancies  Glucose  BloodPressure  SkinThickness  Insulin   BMI  \\\n",
       "0            6    148.0           72.0           35.0    125.0  33.6   \n",
       "1            1     85.0           66.0           29.0    125.0  26.6   \n",
       "2            8    183.0           64.0           29.0    125.0  23.3   \n",
       "3            1     89.0           66.0           23.0     94.0  28.1   \n",
       "4            0    137.0           40.0           35.0    168.0  43.1   \n",
       "\n",
       "   DiabetesPedigreeFunction  Age  Outcome  \n",
       "0                     0.627   50        1  \n",
       "1                     0.351   31        0  \n",
       "2                     0.672   32        1  \n",
       "3                     0.167   21        0  \n",
       "4                     2.288   33        1  "
      ]
     },
     "execution_count": 63,
     "metadata": {},
     "output_type": "execute_result"
    }
   ],
   "source": [
    "df_copy.head()"
   ]
  },
  {
   "cell_type": "markdown",
   "metadata": {},
   "source": [
    "### 3.1 Visualisasi Data"
   ]
  },
  {
   "cell_type": "code",
   "execution_count": 51,
   "metadata": {},
   "outputs": [
    {
     "data": {
      "text/plain": [
       "0    500\n",
       "1    268\n",
       "Name: Outcome, dtype: int64"
      ]
     },
     "execution_count": 51,
     "metadata": {},
     "output_type": "execute_result"
    }
   ],
   "source": [
    "df_copy['Outcome'].value_counts()"
   ]
  },
  {
   "cell_type": "code",
   "execution_count": 52,
   "metadata": {},
   "outputs": [
    {
     "data": {
      "text/plain": [
       "<matplotlib.legend.Legend at 0x27eb85d5550>"
      ]
     },
     "execution_count": 52,
     "metadata": {},
     "output_type": "execute_result"
    },
    {
     "data": {
      "image/png": "[encoded data removed]",
      "text/plain": [
       "<Figure size 1152x432 with 2 Axes>"
      ]
     },
     "metadata": {
      "needs_background": "light"
     },
     "output_type": "display_data"
    }
   ],
   "source": [
    "fig, ax = plt.subplots(1,2,figsize=(16,6))\n",
    "\n",
    "\n",
    "df_copy['Outcome'].value_counts().plot(\n",
    "    kind='pie',\n",
    "    autopct='%.1f%%',\n",
    "    explode=[0,0.05], \n",
    "    cmap='cool',\n",
    "    shadow=True,\n",
    "    ax=ax[0]\n",
    ")\n",
    "ax[0].set_title('Persentase Pasien Terkena Diabetes')\n",
    "ax[0].set_ylabel('')\n",
    "\n",
    "\n",
    "df_copy.groupby('Outcome').agg({'Outcome':'count'}).plot(\n",
    "    kind='bar',\n",
    "    ax=ax[1]\n",
    ")\n",
    "ax[1].set_title('Jumlah masing-masing kelas pada label')\n",
    "ax[1].set_ylabel('Jumlah')\n",
    "ax[1].set_xlabel('Terkena Diabetes')\n",
    "ax[1].legend(title='Diabetes')\n"
   ]
  },
  {
   "cell_type": "markdown",
   "metadata": {},
   "source": [
    "Terlihat pada grafik yang ditampilkan diatas, pada dataset yang digunakan pada project ini terjadi imbalanced data dimana banyak pasien yang tidak terkena diabetes dibandingkan pasien yang terkena diabetes."
   ]
  },
  {
   "cell_type": "markdown",
   "metadata": {},
   "source": [
    "#### Mencoba Eksplorasi Lebih Dalam"
   ]
  },
  {
   "cell_type": "code",
   "execution_count": 53,
   "metadata": {},
   "outputs": [
    {
     "data": {
      "text/plain": [
       "Text(0, 0.5, '')"
      ]
     },
     "execution_count": 53,
     "metadata": {},
     "output_type": "execute_result"
    },
    {
     "data": {
      "image/png": "[encoded data removed]",
      "text/plain": [
       "<Figure size 1152x432 with 2 Axes>"
      ]
     },
     "metadata": {
      "needs_background": "light"
     },
     "output_type": "display_data"
    }
   ],
   "source": [
    "ig, ax = plt.subplots(1,2,figsize=(16,6))\n",
    "\n",
    "\n",
    "sns.countplot(\n",
    "    x='Pregnancies',\n",
    "    hue='Outcome',\n",
    "    data=df_copy\n",
    ")\n",
    "ax[1].set_title('Jumlah umur kehamilan terhadap pasien diabetes')\n",
    "ax[1].set_ylabel('Jumlah')\n",
    "ax[1].set_xlabel('Umur Kehamilan')\n",
    "ax[1].legend(title='diabetes')\n",
    "\n",
    "\n",
    "df_copy['Pregnancies'].value_counts().plot(\n",
    "    kind='pie', \n",
    "    ax=ax[0], \n",
    "    autopct='%.1f%%', \n",
    "    cmap='coolwarm',\n",
    "    shadow=True,\n",
    ")\n",
    "ax[0].set_title('Persentase pasien diabets berdasarkan umur kehamilan')\n",
    "ax[0].set_ylabel('')"
   ]
  },
  {
   "cell_type": "markdown",
   "metadata": {},
   "source": [
    "Terlihat dari grafik diatas cukup mengejutkan, bahwa presentase diabetes pada pasien perempuan terjadi ketika perempuan didominasi usia kehamilan 1 bulan dan disusul pada usian kehamilan 0 bulan."
   ]
  },
  {
   "cell_type": "code",
   "execution_count": 54,
   "metadata": {},
   "outputs": [
    {
     "data": {
      "image/png": "[encoded data removed]",
      "text/plain": [
       "<Figure size 1224x1080 with 2 Axes>"
      ]
     },
     "metadata": {
      "needs_background": "light"
     },
     "output_type": "display_data"
    }
   ],
   "source": [
    "plt.figure(figsize=(17, 15))\n",
    "plt.title('Correlation of Features', fontsize='x-large', fontweight='bold')\n",
    "cmap = sns.diverging_palette(220, 10, as_cmap=True)\n",
    "sns.heatmap(df_copy.corr(), annot=True, cmap=cmap, linewidths=.1, annot_kws={'size': 9})\n",
    "plt.show()"
   ]
  },
  {
   "cell_type": "markdown",
   "metadata": {},
   "source": [
    "# 4. Pendefinisian Model\n",
    "\n",
    "Model yang akan digunakan pada project ini adalah Random Forest dan Naive Bayes. Karena 2 model tersebut memiliki proses yang relatif cepat, namun memiliki hasil yang cukup berbeda jauh siginfikan. Oleh karena itu, mari kita bandingkan pada project ini."
   ]
  },
  {
   "cell_type": "markdown",
   "metadata": {},
   "source": [
    "### 4.1 Split data\n",
    "\n",
    "Kita akan memakai 80:20 perbandingan, dengan 80% data latih dan 20% data uji."
   ]
  },
  {
   "cell_type": "code",
   "execution_count": 64,
   "metadata": {},
   "outputs": [
    {
     "name": "stdout",
     "output_type": "stream",
     "text": [
      "Training set size: (614, 8)\n",
      "Test set size: (154, 8)\n"
     ]
    },
    {
     "name": "stderr",
     "output_type": "stream",
     "text": [
      "C:\\Users\\user\\AppData\\Local\\Temp/ipykernel_4104/2999370837.py:1: FutureWarning: In a future version of pandas all arguments of DataFrame.drop except for the argument 'labels' will be keyword-only\n",
      "  x = df_copy.drop('Outcome', 1)\n"
     ]
    }
   ],
   "source": [
    "x = df_copy.drop('Outcome', 1)\n",
    "y = df_copy.Outcome\n",
    "x_train, x_test, y_train, y_test = train_test_split(x, y, test_size=0.2, random_state=11)\n",
    "\n",
    "print('Training set size:', x_train.shape)\n",
    "print('Test set size:', x_test.shape)"
   ]
  },
  {
   "cell_type": "markdown",
   "metadata": {},
   "source": [
    "### 4.2 Data Scaling"
   ]
  },
  {
   "cell_type": "code",
   "execution_count": 65,
   "metadata": {},
   "outputs": [
    {
     "data": {
      "text/plain": [
       "array([[-5.65086849e-01, -1.33425075e+00, -1.02904670e+00, ...,\n",
       "        -7.17662272e-01, -5.44425857e-01, -7.09135053e-01],\n",
       "       [-8.56407862e-01,  2.53482893e-01, -2.10919567e-01, ...,\n",
       "        -9.81802522e-01, -2.72690136e-04, -9.66468931e-01],\n",
       "       [-1.14772887e+00, -4.91779839e-01, -1.02904670e+00, ...,\n",
       "        -9.08430230e-01, -1.01383271e+00, -8.80690971e-01],\n",
       "       ...,\n",
       "       [-1.14772887e+00, -7.18598932e-01,  1.26170927e+00, ...,\n",
       "         2.08515927e+00,  1.46475507e+00, -1.94467296e-01],\n",
       "       [ 3.08876187e-01, -1.43145894e+00, -2.01079926e+00, ...,\n",
       "         1.62805228e-01,  5.43880476e-01, -7.09135053e-01],\n",
       "       [ 1.75551750e-02,  3.83093803e-01, -4.72941404e-02, ...,\n",
       "        -1.28996615e+00, -5.83293940e-01,  2.29309353e+00]])"
      ]
     },
     "metadata": {},
     "output_type": "display_data"
    }
   ],
   "source": [
    "scaler = StandardScaler()\n",
    "x_train_scaled = scaler.fit_transform(x_train)\n",
    "x_test_scaled = scaler.transform(x_test)\n",
    "\n",
    "display(x_test_scaled)"
   ]
  },
  {
   "cell_type": "markdown",
   "metadata": {},
   "source": [
    "# 5. Proses Latih Model"
   ]
  },
  {
   "cell_type": "markdown",
   "metadata": {},
   "source": [
    "## 5.1 Naive Bayes"
   ]
  },
  {
   "cell_type": "code",
   "execution_count": 67,
   "metadata": {},
   "outputs": [
    {
     "name": "stdout",
     "output_type": "stream",
     "text": [
      "              precision    recall  f1-score   support\n",
      "\n",
      "           0       0.78      0.87      0.82       100\n",
      "           1       0.69      0.54      0.60        54\n",
      "\n",
      "    accuracy                           0.75       154\n",
      "   macro avg       0.73      0.70      0.71       154\n",
      "weighted avg       0.75      0.75      0.74       154\n"
     ]
    }
   ],
   "source": [
    "model_GNB = GaussianNB()\n",
    "model_GNB.fit(x_train_scaled, y_train)\n",
    "y_pred_GNB = model_GNB.predict(x_test_scaled)\n",
    "\n",
    "print(classification_report(y_test, y_pred_GNB), end='')"
   ]
  },
  {
   "cell_type": "code",
   "execution_count": 68,
   "metadata": {},
   "outputs": [
    {
     "name": "stdout",
     "output_type": "stream",
     "text": [
      "Nilai akurasi pembuatan model naive bayes menggunakan data training (satuann persen) adalah 76.0586319218241\n",
      "Nilai akurasi pembuatan model naive bayes menggunakan data Uji (satuann persen) adalah 75.32467532467533\n"
     ]
    }
   ],
   "source": [
    "print('Nilai akurasi pembuatan model naive bayes menggunakan data training (satuann persen) adalah', model_GNB.score(x_train_scaled, y_train) * 100)\n",
    "print('Nilai akurasi pembuatan model naive bayes menggunakan data Uji (satuann persen) adalah', model_GNB.score(x_test_scaled, y_test)* 100)"
   ]
  },
  {
   "cell_type": "code",
   "execution_count": 70,
   "metadata": {},
   "outputs": [
    {
     "data": {
      "image/png": "[encoded data removed]",
      "text/plain": [
       "<Figure size 216x216 with 1 Axes>"
      ]
     },
     "metadata": {
      "needs_background": "light"
     },
     "output_type": "display_data"
    }
   ],
   "source": [
    "def cmplot(cm):\n",
    "    fig, ax = plt.subplots(figsize=(3, 3))\n",
    "    ax.imshow(cm, cmap='tab10')\n",
    "    ax.grid(False)\n",
    "    ax.set_xlabel('Predicted outputs', fontsize='large')\n",
    "    ax.set_ylabel('Actual outputs', fontsize='large')\n",
    "    ax.xaxis.set(ticks=range(2))\n",
    "    ax.yaxis.set(ticks=range(2))\n",
    "    ax.set_ylim(1.5, -0.5)\n",
    "    for i in range(2):\n",
    "        for j in range(2):\n",
    "            ax.text(j, i, cm[i, j], ha='center', va='center', color='white', \n",
    "                    fontsize='xx-large', fontfamily='monospace')\n",
    "    plt.title('Confusion Matrix', fontsize='x-large', fontweight='bold')\n",
    "    plt.show()\n",
    "\n",
    "\n",
    "cmplot(confusion_matrix(y_test, y_pred_GNB))"
   ]
  },
  {
   "cell_type": "markdown",
   "metadata": {},
   "source": [
    "## 5.2 Random Forest"
   ]
  },
  {
   "cell_type": "code",
   "execution_count": 71,
   "metadata": {},
   "outputs": [
    {
     "name": "stdout",
     "output_type": "stream",
     "text": [
      "              precision    recall  f1-score   support\n",
      "\n",
      "           0       0.76      0.85      0.80       100\n",
      "           1       0.64      0.50      0.56        54\n",
      "\n",
      "    accuracy                           0.73       154\n",
      "   macro avg       0.70      0.68      0.68       154\n",
      "weighted avg       0.72      0.73      0.72       154\n"
     ]
    }
   ],
   "source": [
    "model_RF = RandomForestClassifier(random_state=11)\n",
    "model_RF.fit(x_train_scaled, y_train)\n",
    "y_pred_RF = model_RF.predict(x_test_scaled)\n",
    "\n",
    "print(classification_report(y_test, y_pred_RF), end='')"
   ]
  },
  {
   "cell_type": "code",
   "execution_count": 72,
   "metadata": {},
   "outputs": [
    {
     "name": "stdout",
     "output_type": "stream",
     "text": [
      "Nilai akurasi pembuatan model random forest menggunakan data training (satuann persen) adalah 100.0\n",
      "Nilai akurasi pembuatan model random forest menggunakan data Uji (satuann persen) adalah 72.72727272727273\n"
     ]
    }
   ],
   "source": [
    "print('Nilai akurasi pembuatan model random forest menggunakan data training (satuann persen) adalah', model_RF.score(x_train_scaled, y_train) * 100)\n",
    "print('Nilai akurasi pembuatan model random forest menggunakan data Uji (satuann persen) adalah', model_RF.score(x_test_scaled, y_test)* 100)"
   ]
  },
  {
   "cell_type": "code",
   "execution_count": 73,
   "metadata": {},
   "outputs": [
    {
     "data": {
      "image/png": "[encoded data removed]",
      "text/plain": [
       "<Figure size 216x216 with 1 Axes>"
      ]
     },
     "metadata": {
      "needs_background": "light"
     },
     "output_type": "display_data"
    }
   ],
   "source": [
    "cmplot(confusion_matrix(y_test, y_pred_RF))"
   ]
  },
  {
   "cell_type": "code",
   "execution_count": 74,
   "metadata": {},
   "outputs": [
    {
     "name": "stdout",
     "output_type": "stream",
     "text": [
      "Naive Bayes: 75.32467532467533\n",
      "Random Forest: 72.72727272727273\n"
     ]
    }
   ],
   "source": [
    "print(\"Naive Bayes:\", model_GNB.score(x_test_scaled, y_test)* 100)\n",
    "print(\"Random Forest:\", model_RF.score(x_test_scaled, y_test)* 100)"
   ]
  },
  {
   "cell_type": "markdown",
   "metadata": {},
   "source": [
    "## 6. Uji Model"
   ]
  },
  {
   "cell_type": "markdown",
   "metadata": {},
   "source": [
    "### 6.1 Menggunakan Naive Bayes"
   ]
  },
  {
   "cell_type": "markdown",
   "metadata": {},
   "source": [
    "Xn [Umur Kehamilan, TIngkat Glukosa, Blood Preasure, Tingkat Ketebalan Kulit, Insulin, BMI, Diabetes PedigreeFunction, Umur ]"
   ]
  },
  {
   "cell_type": "code",
   "execution_count": 75,
   "metadata": {},
   "outputs": [
    {
     "name": "stdout",
     "output_type": "stream",
     "text": [
      "Diabetes\n"
     ]
    }
   ],
   "source": [
    "Xn = [[5, 108, 72, 43, 75,36.1, 0.263, 33]]\n",
    "out = model_GNB.predict(Xn)\n",
    "if out == 0:\n",
    "    print(\"No Diabetes\")\n",
    "else:\n",
    "    print(\"Diabetes\")"
   ]
  },
  {
   "cell_type": "markdown",
   "metadata": {},
   "source": [
    "### 6.2 Menggunakan Random Forest"
   ]
  },
  {
   "cell_type": "code",
   "execution_count": 76,
   "metadata": {},
   "outputs": [
    {
     "name": "stdout",
     "output_type": "stream",
     "text": [
      "Diabetes\n"
     ]
    }
   ],
   "source": [
    "Xn = [[5, 108, 72, 43, 75,36.1, 0.263, 33]]\n",
    "out = model_RF.predict(Xn)\n",
    "if out == 0:\n",
    "    print(\"No Diabetes\")\n",
    "else:\n",
    "    print(\"Diabetes\")"
   ]
  },
  {
   "cell_type": "markdown",
   "metadata": {},
   "source": [
    "## 7. Kesimpulan"
   ]
  },
  {
   "cell_type": "markdown",
   "metadata": {},
   "source": [
    "Dengan menggunakan dua metode diatas, terlihat model yang dibangun hanya memiliki tingkat akurasi sekitar 70% keatas. Namun hal yang unik adalah, pada kasus ini model naive bayes memiliki tingkat akurasi yang cukup lebih baik daripada random forest.\n",
    "\n",
    "Kedua model mampu memprediksi apakah satu pasien dengan kategori terentu, sesuai indikator yang ada terkena diabetes atau tidak. Namun, prediksi tersebut masih dapat diragukan mengingat model yang dibangun hanya mampu memprediksi suatu kasus dengan tingkat kebenaran 70%.\n",
    "\n"
   ]
  }
 ],
 "metadata": {
  "interpreter": {
   "hash": "6d46af94c2bbce495f1e668725902fa517c90b1782bcfe2fce0dd9868df553d3"
  },
  "kernelspec": {
   "display_name": "Python 3.9.7 ('base')",
   "language": "python",
   "name": "python3"
  },
  "language_info": {
   "codemirror_mode": {
    "name": "ipython",
    "version": 3
   },
   "file_extension": ".py",
   "mimetype": "text/x-python",
   "name": "python",
   "nbconvert_exporter": "python",
   "pygments_lexer": "ipython3",
   "version": "3.9.7"
  },
  "orig_nbformat": 4
 },
 "nbformat": 4,
 "nbformat_minor": 2
}
